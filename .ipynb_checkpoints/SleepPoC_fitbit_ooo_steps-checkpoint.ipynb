{
 "cells": [
  {
   "cell_type": "code",
   "execution_count": 1,
   "metadata": {
    "pycharm": {
     "name": "#%%\n"
    }
   },
   "outputs": [],
   "source": [
    "import json\n",
    "import pandas as pd\n",
    "from datetime import datetime, timedelta\n",
    "from datetime import date"
   ]
  },
  {
   "cell_type": "code",
   "execution_count": 2,
   "metadata": {
    "pycharm": {
     "name": "#%%\n"
    }
   },
   "outputs": [],
   "source": [
    "# Opening JSON files\n",
    "\n",
    "#sleep data file\n",
    "f = open('sleep-2022-09-10.json')\n",
    "\n",
    "#steps evening date file\n",
    "f0 = open('act_steps-2022-09-10.json')\n",
    "\n",
    "#Steps morning date file\n",
    "f1 = open('act_steps-2022-09-11.json')\n",
    "\n",
    "# returns JSON object as a dictionary\n",
    "sleep = json.load(f)\n",
    "steps1 = json.load(f0)\n",
    "steps2 = json.load(f1)"
   ]
  },
  {
   "cell_type": "code",
   "execution_count": 3,
   "metadata": {
    "pycharm": {
     "name": "#%%\n"
    }
   },
   "outputs": [],
   "source": [
    "#determining sleep session\n",
    "\n",
    "y = len(sleep[\"sleep\"][0][\"levels\"][\"data\"])\n",
    "\n",
    "sleep_s = []\n",
    "date_s = []\n",
    "time_s = []\n",
    "level_s = []\n",
    "length_s = []\n",
    "i=0\n",
    "for i in range(0,y):\n",
    "    if sleep[\"sleep\"][0][\"levels\"][\"data\"][i][\"level\"] != \"wake\":\n",
    "        date_s.append(sleep[\"sleep\"][0][\"levels\"][\"data\"][i][\"dateTime\"][0:10])\n",
    "        time_s.append(sleep[\"sleep\"][0][\"levels\"][\"data\"][i][\"dateTime\"][11:19])\n",
    "        level_s.append(sleep[\"sleep\"][0][\"levels\"][\"data\"][i][\"level\"])\n",
    "        length_s.append(sleep[\"sleep\"][0][\"levels\"][\"data\"][i][\"seconds\"])\n",
    "\n",
    "sleep_df = pd.DataFrame(columns = [\"date\", \"time\", \"stage\", \"length (s)\"])\n",
    "sleep_df[\"date\"] = date_s\n",
    "sleep_df[\"time\"] = time_s\n",
    "sleep_df[\"stage\"] = level_s\n",
    "sleep_df[\"length (s)\"] = length_s\n",
    "\n",
    "#Adding end time of last sleep stage to df\n",
    "\n",
    "last_time = datetime.strptime(sleep_df[\"date\"].iloc[-1]+\" \"+sleep_df[\"time\"].iloc[-1], '%Y-%m-%d %H:%M:%S') + timedelta(seconds=sleep_df[\"length (s)\"].iloc[-1].item())\n",
    "time_l = last_time.strftime(\"%m/%d/%Y, %H:%M:%S\")[12:20]\n",
    "\n",
    "k = len(sleep_df)\n",
    "\n",
    "sleep_df.loc[k,\"date\"] = date_s[-1]\n",
    "sleep_df.loc[k,\"time\"] = time_l"
   ]
  },
  {
   "cell_type": "code",
   "execution_count": 4,
   "metadata": {
    "pycharm": {
     "name": "#%%\n"
    }
   },
   "outputs": [],
   "source": [
    "# Putting all evening date minutes where step count >= 15 into df\n",
    "x = len(steps1['activities-steps-intraday']['dataset'])\n",
    "\n",
    "day1 = steps1['activities-steps'][0][\"dateTime\"]\n",
    "\n",
    "times = []\n",
    "steps = []\n",
    "i = 0\n",
    "for i in range(0,x):\n",
    "    if steps1['activities-steps-intraday']['dataset'][i]['value'] >= 15:\n",
    "        times.append(steps1['activities-steps-intraday']['dataset'][i]['time'])\n",
    "        steps.append(steps1['activities-steps-intraday']['dataset'][i]['value'])\n",
    "\n",
    "date1 = [day1]*len(steps)\n",
    "out = pd.DataFrame(columns = [\"date\", \"times\", \"steps\"])\n",
    "out[\"date\"] = date1\n",
    "out[\"times\"] = times\n",
    "out[\"steps\"] = steps\n",
    "\n",
    "# Adding all morning date minutes where step count >= 15 to df\n",
    "\n",
    "y = len(steps2['activities-steps-intraday']['dataset'])\n",
    "day2 = steps2['activities-steps'][0][\"dateTime\"]\n",
    "\n",
    "i = 0\n",
    "for i in range(0,y):\n",
    "    z = len(out)\n",
    "    if steps2['activities-steps-intraday']['dataset'][i]['value'] >= 15:\n",
    "        out.loc[z,\"date\"] = day2\n",
    "        out.loc[z, \"times\"] = steps2['activities-steps-intraday']['dataset'][i]['time']\n",
    "        out.loc[z, \"steps\"] = steps2['activities-steps-intraday']['dataset'][i]['value']"
   ]
  },
  {
   "cell_type": "code",
   "execution_count": 5,
   "metadata": {
    "pycharm": {
     "name": "#%%\n"
    }
   },
   "outputs": [
    {
     "name": "stdout",
     "output_type": "stream",
     "text": [
      "Time Entering Bed should be one minute after 2022-09-10 00:22:00\n"
     ]
    }
   ],
   "source": [
    "#finding last minute before first sleep stage where steps >= 15\n",
    "\n",
    "i = 0\n",
    "y = len(out)\n",
    "\n",
    "start_dt = datetime.strptime(sleep_df[\"date\"].iloc[0]+\" \"+sleep_df[\"time\"].iloc[0], '%Y-%m-%d %H:%M:%S')\n",
    "start_steps = []\n",
    "while i < y:\n",
    "    comp_dt = datetime.strptime(out[\"date\"].iloc[i]+\" \"+out[\"times\"].iloc[i], '%Y-%m-%d %H:%M:%S')\n",
    "    if comp_dt < start_dt:\n",
    "        text = datetime.strftime(comp_dt, '%Y-%m-%d %H:%M:%S')\n",
    "        start_steps.append(text)\n",
    "    i+=1\n",
    "\n",
    "ttb = start_steps[-1]\n",
    "\n",
    "print(\"Time Entering Bed should be one minute after \" +ttb)"
   ]
  },
  {
   "cell_type": "code",
   "execution_count": 6,
   "metadata": {
    "pycharm": {
     "name": "#%%\n"
    }
   },
   "outputs": [
    {
     "name": "stdout",
     "output_type": "stream",
     "text": [
      "Time of Final Bed Exit should be one minute before 2022-09-10 10:32:00\n"
     ]
    }
   ],
   "source": [
    "#finding first minute after last sleep stage where steps >= 15\n",
    "\n",
    "i = 0\n",
    "y = len(out)\n",
    "\n",
    "end_dt = datetime.strptime(sleep_df[\"date\"].iloc[-1]+\" \"+sleep_df[\"time\"].iloc[-1], '%Y-%m-%d %H:%M:%S')\n",
    "end_steps = []\n",
    "while i < y:\n",
    "    comp_dt = datetime.strptime(out[\"date\"].iloc[i]+\" \"+out[\"times\"].iloc[i], '%Y-%m-%d %H:%M:%S')\n",
    "    if comp_dt > end_dt:\n",
    "        text = datetime.strftime(comp_dt, '%Y-%m-%d %H:%M:%S')\n",
    "        ttg = text\n",
    "        i = y +1\n",
    "    \n",
    "    i+=1\n",
    "\n",
    "print(\"Time of Final Bed Exit should be one minute before \" +ttg)"
   ]
  }
 ],
 "metadata": {
  "kernelspec": {
   "display_name": "Python 3 (ipykernel)",
   "language": "python",
   "name": "python3"
  },
  "language_info": {
   "codemirror_mode": {
    "name": "ipython",
    "version": 3
   },
   "file_extension": ".py",
   "mimetype": "text/x-python",
   "name": "python",
   "nbconvert_exporter": "python",
   "pygments_lexer": "ipython3",
   "version": "3.10.7"
  }
 },
 "nbformat": 4,
 "nbformat_minor": 4
}
