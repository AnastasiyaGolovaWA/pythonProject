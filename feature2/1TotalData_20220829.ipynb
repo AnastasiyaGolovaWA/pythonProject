{
 "cells": [
  {
   "cell_type": "markdown",
   "id": "48f09e9c-b84a-4bd4-aaf3-9157abc354bc",
   "metadata": {
    "pycharm": {
     "name": "#%% md\n"
    }
   },
   "source": [
    "# Queries and tables\n",
    "\n",
    "## IDs.csv\n",
    "select s.subject_id, s.id as subject_integer_id, sp.id as study_participant_id, sp.\"date\" as study_start_date,\n",
    "k.\"name\" as kit_name, u.id as user_id, u.sub as user_sub, ch.id as chat_id,  a.anonymous_id, a.email  from subject s\n",
    "join study_participant sp on sp.subject_id = s.id join \"user\" u on s.user_id = u.id join anonymous a on a.user_id = u.id\n",
    "join chat ch on ch.user_sub = u.sub join kit k on sp.kit_id = k.id;\n",
    "\n",
    "## quality_control.csv\n",
    "PHI: quality_control table\n",
    "\n",
    "## anonymous.csv\n",
    "PHI: anonymous table\n",
    "\n",
    "## flow_steps.csv\n",
    "PHI: flow_steps table\n",
    "\n",
    "## subject_flow_history.csv\n",
    "PHI: subject_flow_history table"
   ]
  },
  {
   "cell_type": "code",
   "execution_count": null,
   "outputs": [],
   "source": [
    "import pandas as pd\n",
    "import numpy as np\n",
    "from datetime import datetime\n",
    "from datetime import date"
   ],
   "metadata": {
    "collapsed": false,
    "pycharm": {
     "name": "#%%\n"
    }
   }
  },
  {
   "cell_type": "code",
   "execution_count": null,
   "outputs": [],
   "source": [
    "# Reading in the data\n",
    "ids = pd.read_csv(\"IDs.csv\")\n",
    "qc = pd.read_csv(\"quality_control.csv\")\n",
    "anonymous = pd.read_csv(\"anonymous.csv\")\n",
    "flow_steps = pd.read_csv(\"flow_steps.csv\")\n",
    "subject_flow_history = pd.read_csv(\"subject_flow_history.csv\")"
   ],
   "metadata": {
    "collapsed": false,
    "pycharm": {
     "name": "#%%\n"
    }
   }
  },
  {
   "cell_type": "code",
   "execution_count": null,
   "id": "dc7d9f2e-7665-43f9-ab52-1f9e6d70adfa",
   "metadata": {
    "pycharm": {
     "name": "#%%\n"
    }
   },
   "outputs": [],
   "source": [
    "subject_id = ids[\"subject_id\"]\n",
    "startdates = ids[\"study_start_date\"]\n",
    "upload_date = qc[\"date\"]"
   ]
  },
  {
   "cell_type": "code",
   "execution_count": null,
   "id": "a8d849fa-f675-47a4-9b7a-cf2ce1719255",
   "metadata": {
    "pycharm": {
     "name": "#%%\n"
    }
   },
   "outputs": [],
   "source": [
    "# Matching subject_participant_id and to Subject ID and subject's start date\n",
    "\n",
    "i = 0\n",
    "s_id_list = []\n",
    "s_date_list = []\n",
    "while i < len(qc):\n",
    "    sp2_id = qc[\"study_participant_id\"][i]\n",
    "    boolkey = sp2_id == ids[\"study_participant_id\"]\n",
    "    id_key = [j for j, x in enumerate(boolkey) if x]\n",
    "    if id_key != []:\n",
    "        s_id = subject_id[id_key[0]]\n",
    "        s_id_list.append(s_id)\n",
    "        s_sd = startdates[id_key[0]]\n",
    "        s_date_list.append(s_sd)\n",
    "    else:\n",
    "        s_id = \"N/A\"\n",
    "        s_id_list.append(s_id) \n",
    "        s_sd = \"1990-01-01\"\n",
    "        s_date_list.append(s_sd) \n",
    "    i += 1\n",
    "    \n",
    "qc[\"subject_id\"] = s_id_list\n",
    "qc[\"sub_start_date\"] = [datetime.date(datetime.strptime(b, '%Y-%m-%d')) for b in s_date_list]\n",
    "qc[\"up_date\"] = [datetime.date(datetime.strptime(c, '%Y-%m-%d')) for c in upload_date]"
   ]
  },
  {
   "cell_type": "code",
   "execution_count": null,
   "id": "b560d91b-d4a5-420f-9a2c-1f4eaa166bd4",
   "metadata": {
    "pycharm": {
     "name": "#%%\n"
    }
   },
   "outputs": [],
   "source": [
    "# Determining current subject status\n",
    "anon_id = ids[\"anonymous_id\"]\n",
    "status_int_list = []\n",
    "for a_id in anon_id:\n",
    "    boolkey = a_id == anonymous[\"anonymous_id\"]\n",
    "    id_key = [j for j, x in enumerate(boolkey) if x]\n",
    "    if id_key != []:\n",
    "        status_int = anonymous[\"current_subject_flow_step_id\"][id_key[0]]\n",
    "        status_int_list.append(status_int)\n",
    "    else:\n",
    "        status_int = \"N/A\"\n",
    "        status_int_list.append(status_int)\n",
    "        \n",
    "status_list = []\n",
    "for stat_int in status_int_list:\n",
    "    boolkey = stat_int == flow_steps[\"id\"]\n",
    "    id_key = [j for j, x in enumerate(boolkey) if x]\n",
    "    if id_key != []:\n",
    "        status_code = flow_steps[\"code\"][id_key[0]]\n",
    "        status_list.append(status_code)\n",
    "    else:\n",
    "        status_code = \"N/A\"\n",
    "        status_list.append(status_code)"
   ]
  },
  {
   "cell_type": "code",
   "execution_count": null,
   "id": "008aad2c-6a4b-4038-8d8f-0277d6a9ee1a",
   "metadata": {
    "pycharm": {
     "name": "#%%\n"
    }
   },
   "outputs": [],
   "source": [
    "# Determining current study day from IDs table\n",
    "today = date.today()\n",
    "date_list = []\n",
    "for date in ids[\"study_start_date\"]:\n",
    "    start_dt = datetime.strptime(date, '%Y-%m-%d')\n",
    "    start_date = datetime.date(start_dt)\n",
    "    delta = today - start_date\n",
    "    if len(str(delta)) == 14:\n",
    "        delta_int = 1\n",
    "    elif len(str(delta)) == 7:\n",
    "        delta_int = 0\n",
    "    else:\n",
    "        delta_int = int(str(delta)[0:-14])\n",
    "    if delta_int > 14:\n",
    "        delta_int = 14\n",
    "    if delta_int < 0:\n",
    "        delta_int = \" \"\n",
    "    date_list.append(delta_int)"
   ]
  },
  {
   "cell_type": "code",
   "execution_count": null,
   "id": "ad273553-ba07-4718-81c6-db1abd9ac006",
   "metadata": {
    "pycharm": {
     "name": "#%%\n"
    }
   },
   "outputs": [],
   "source": [
    "#Making two rows (one per week) for each subject ID, subject status, and study day\n",
    "subject_id = [val for val in subject_id for _ in (0,1)]\n",
    "status_list = [val0 for val0 in status_list for _ in (0,1)]\n",
    "date_list = [val1 for val1 in date_list for _ in (0,1)]"
   ]
  },
  {
   "cell_type": "code",
   "execution_count": null,
   "id": "7ba111e1-31d8-4299-ab75-36e313efb859",
   "metadata": {
    "pycharm": {
     "name": "#%%\n"
    }
   },
   "outputs": [],
   "source": [
    "# Creating column headers and Subject ID rows + populating current status and study day data\n",
    "totaldata = pd.DataFrame(columns = [\"Subject\", \"Week\", \"Current Subject Status\", \"Current Subject Study Day\", \"Fitbit - Sleep\", \"Fitbit - Heart Rate\", \"Fitbit - Steps\", \"Withings - Sleep Summary\", \"Withings - Sleep Detailed\", \"Study App - NB\", \"Study App - ISI\", \"Study App - EMA - BM\", \"Study App - EMA - Morning\", \"Study App - EMA - Evening\", \"Study App - Sleep Diary\"])\n",
    "totaldata[\"Subject\"] = subject_id\n",
    "totaldata[\"Week\"] = [1,2]*int((len(subject_id)/2))\n",
    "totaldata[\"Current Subject Status\"] = status_list\n",
    "totaldata[\"Current Subject Study Day\"] = date_list\n",
    "totaldata[\"Fitbit - Sleep\"] = [0]*len(subject_id)\n",
    "totaldata[\"Fitbit - Heart Rate\"] = [0]*len(subject_id)\n",
    "totaldata[\"Fitbit - Steps\"] = [0]*len(subject_id)\n",
    "totaldata[\"Withings - Sleep Summary\"] = [0]*len(subject_id)\n",
    "totaldata[\"Withings - Sleep Detailed\"] = [0]*len(subject_id)\n",
    "totaldata[\"Study App - NB\"] = [0]*len(subject_id)\n",
    "totaldata[\"Study App - ISI\"] = [0]*len(subject_id)\n",
    "totaldata[\"Study App - EMA - BM\"] = [0]*len(subject_id)\n",
    "totaldata[\"Study App - EMA - Morning\"] = [0]*len(subject_id)\n",
    "totaldata[\"Study App - EMA - Evening\"] = [0]*len(subject_id)\n",
    "totaldata[\"Study App - Sleep Diary\"] = [0]*len(subject_id)"
   ]
  },
  {
   "cell_type": "code",
   "execution_count": null,
   "id": "a8f61f38-2483-4fba-a77e-0f7b8d09c6f5",
   "metadata": {
    "pycharm": {
     "name": "#%%\n"
    }
   },
   "outputs": [],
   "source": [
    "# Populating table from QC data\n",
    "i = 0\n",
    "while i < len(qc):\n",
    "    #filtering for data files marked as successfully uploaded \n",
    "    if qc[\"status\"][i] == \"SUCCESS\":\n",
    "        sub_id = qc[\"subject_id\"][i]\n",
    "        strm = qc[\"stream\"][i]\n",
    "        typ = qc[\"type\"][i]\n",
    "        #finding matching subject ID from total data df\n",
    "        if sub_id != \"N/A\":\n",
    "            boolkey = sub_id == totaldata[\"Subject\"]\n",
    "            id_key = [j for j, x in enumerate(boolkey) if x]\n",
    "            #determining which week the data file was uploaded during\n",
    "            week12 = qc[\"up_date\"][i] - qc[\"sub_start_date\"][i]\n",
    "            if len(str(week12)) == 14:\n",
    "                week_int = 1\n",
    "            elif len(str(week12)) == 7:\n",
    "                week_int = 0\n",
    "            else:\n",
    "                week_int = int(str(week12)[0:-14])\n",
    "            #determining data file type and adding to current tally of files for that file type and week per subject\n",
    "            if  week_int < 8:\n",
    "                if strm == \"sleep\" and typ == \"fitbit\":\n",
    "                    totaldata.loc[id_key[0], \"Fitbit - Sleep\"] = totaldata[\"Fitbit - Sleep\"][id_key[0]] + 1\n",
    "                elif strm == \"hr\" and typ == \"fitbit\":\n",
    "                    totaldata.loc[id_key[0], \"Fitbit - Heart Rate\"] = totaldata[\"Fitbit - Heart Rate\"][id_key[0]] + 1\n",
    "                elif strm == \"activities\" and typ == \"fitbit\":\n",
    "                    totaldata.loc[id_key[0], \"Fitbit - Steps\"] = totaldata[\"Fitbit - Steps\"][id_key[0]] + 1\n",
    "                elif strm == \"summary\" and typ == \"withings\":\n",
    "                    totaldata.loc[id_key[0], \"Withings - Sleep Summary\"] = totaldata[\"Withings - Sleep Summary\"][id_key[0]] + 1\n",
    "                elif strm == \"sleep\" and typ == \"withings\":\n",
    "                    totaldata.loc[id_key[0], \"Withings - Sleep Detailed\"] = totaldata[\"Withings - Sleep Detailed\"][id_key[0]] + 1\n",
    "                elif strm == \"nb\" and typ == \"app\":\n",
    "                    totaldata.loc[id_key[0], \"Study App - NB\"] = totaldata[\"Study App - NB\"][id_key[0]] + 1\n",
    "                elif strm == \"isi\" and typ == \"app\":\n",
    "                    totaldata.loc[id_key[0], \"Study App - ISI\"] = totaldata[\"Study App - ISI\"][id_key[0]] + 1\n",
    "                elif strm == \"ema_morning\" and typ == \"app\":\n",
    "                    totaldata.loc[id_key[0], \"Study App - EMA - Morning\"] = totaldata[\"Study App - EMA - Morning\"][id_key[0]] + 1\n",
    "                elif strm == \"ema_evening\" and typ == \"app\":\n",
    "                    totaldata.loc[id_key[0], \"Study App - EMA - Evening\"] = totaldata[\"Study App - EMA - Evening\"][id_key[0]] + 1\n",
    "                elif strm == \"sleep_diary\" and typ == \"app\":\n",
    "                    totaldata.loc[id_key[0], \"Study App - Sleep Diary\"] = totaldata[\"Study App - Sleep Diary\"][id_key[0]] + 1\n",
    "                else: \n",
    "                    totaldata.loc[id_key[0], \"Study App - EMA - BM\"] = totaldata[\"Study App - EMA - BM\"][id_key[0]] + 1\n",
    "            else:\n",
    "                if strm == \"sleep\" and typ == \"fitbit\":\n",
    "                    totaldata.loc[id_key[1], \"Fitbit - Sleep\"] = totaldata[\"Fitbit - Sleep\"][id_key[1]] + 1\n",
    "                elif strm == \"hr\" and typ == \"fitbit\":\n",
    "                    totaldata.loc[id_key[1], \"Fitbit - Heart Rate\"] = totaldata[\"Fitbit - Heart Rate\"][id_key[1]] + 1\n",
    "                elif strm == \"activities\" and typ == \"fitbit\":\n",
    "                    totaldata.loc[id_key[1], \"Fitbit - Steps\"] = totaldata[\"Fitbit - Steps\"][id_key[1]] + 1\n",
    "                elif strm == \"summary\" and typ == \"withings\":\n",
    "                    totaldata.loc[id_key[1], \"Withings - Sleep Summary\"] = totaldata[\"Withings - Sleep Summary\"][id_key[1]] + 1\n",
    "                elif strm == \"sleep\" and typ == \"withings\":\n",
    "                    totaldata.loc[id_key[1], \"Withings - Sleep Detailed\"] = totaldata[\"Withings - Sleep Detailed\"][id_key[1]] + 1\n",
    "                elif strm == \"nb\" and typ == \"app\":\n",
    "                    totaldata.loc[id_key[1], \"Study App - NB\"] = totaldata[\"Study App - NB\"][id_key[1]] + 1\n",
    "                elif strm == \"isi\" and typ == \"app\":\n",
    "                    totaldata.loc[id_key[1], \"Study App - ISI\"] = totaldata[\"Study App - ISI\"][id_key[1]] + 1\n",
    "                elif strm == \"ema_morning\" and typ == \"app\":\n",
    "                    totaldata.loc[id_key[1], \"Study App - EMA - Morning\"] = totaldata[\"Study App - EMA - Morning\"][id_key[1]] + 1\n",
    "                elif strm == \"ema_evening\" and typ == \"app\":\n",
    "                    totaldata.loc[id_key[1], \"Study App - EMA - Evening\"] = totaldata[\"Study App - EMA - Evening\"][id_key[1]] + 1\n",
    "                elif strm == \"sleep_diary\" and typ == \"app\":\n",
    "                    totaldata.loc[id_key[1], \"Study App - Sleep Diary\"] = totaldata[\"Study App - Sleep Diary\"][id_key[1]] + 1\n",
    "                else: \n",
    "                    totaldata.loc[id_key[1], \"Study App - EMA - BM\"] = totaldata[\"Study App - EMA - BM\"][id_key[1]] + 1\n",
    "                \n",
    "    i = i+1"
   ]
  },
  {
   "cell_type": "code",
   "execution_count": null,
   "id": "67cf2a90-c7d6-412b-85ef-c846bc2ea320",
   "metadata": {
    "pycharm": {
     "name": "#%%\n"
    }
   },
   "outputs": [],
   "source": [
    "# Write dataframe to Excel file\n",
    "totaldata.to_csv(\"1TotalData.csv\")"
   ]
  }
 ],
 "metadata": {
  "kernelspec": {
   "display_name": "Python 3 (ipykernel)",
   "language": "python",
   "name": "python3"
  },
  "language_info": {
   "codemirror_mode": {
    "name": "ipython",
    "version": 3
   },
   "file_extension": ".py",
   "mimetype": "text/x-python",
   "name": "python",
   "nbconvert_exporter": "python",
   "pygments_lexer": "ipython3",
   "version": "3.7.10"
  }
 },
 "nbformat": 4,
 "nbformat_minor": 5
}