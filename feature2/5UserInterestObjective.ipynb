{
 "cells": [
  {
   "cell_type": "markdown",
   "id": "91c80881-bba1-47ab-8134-734466e2c5ff",
   "metadata": {
    "pycharm": {
     "name": "#%% md\n"
    }
   },
   "source": [
    "# Queries and tables\n",
    "\n",
    "## IDs_all.csv\n",
    "select s.subject_id, s.id as subject_integer_id, sp.id as study_participant_id, sp.\"date\" as study_start_date,\n",
    "k.\"name\" as kit_name, u.id as user_id, u.sub as user_sub, ch.id as chat_id,  a.anonymous_id, a.email\n",
    "from anonymous a join \"user\" u on a.user_id = u.id join chat ch on ch.user_sub = u.sub\n",
    "left join subject s on s.user_id = u.id left join study_participant sp on sp.subject_id = s.id left join kit k on sp.kit_id = k.id;\n",
    "\n",
    "## flow_steps.csv\n",
    "PHI: flow_steps table\n",
    "\n",
    "## subject_flow_history.csv\n",
    "PHI: subject_flow_history table\n",
    "\n",
    "## anonymous.csv\n",
    "PHI: anonymous table"
   ]
  },
  {
   "cell_type": "code",
   "execution_count": 1,
   "id": "ae7a5834-4ab5-4f9a-941e-bee17e05496f",
   "metadata": {
    "pycharm": {
     "name": "#%%\n"
    }
   },
   "outputs": [],
   "source": [
    "import pandas as pd\n",
    "import numpy as np\n",
    "from datetime import datetime\n",
    "from datetime import date"
   ]
  },
  {
   "cell_type": "code",
   "execution_count": 2,
   "id": "231cc344-1db5-4497-bd26-7981c6d204bf",
   "metadata": {
    "pycharm": {
     "name": "#%%\n"
    }
   },
   "outputs": [],
   "source": [
    "# Reading in the data\n",
    "ids = pd.read_csv(\"IDs_all.csv\")\n",
    "flow_steps = pd.read_csv(\"flow_steps.csv\")\n",
    "sfh = pd.read_csv(\"subject_flow_history.csv\")\n",
    "anonymous = pd.read_csv(\"anonymous.csv\")"
   ]
  },
  {
   "cell_type": "code",
   "execution_count": 3,
   "id": "7e3c75fb-2788-48d7-b592-45f4795cdb1d",
   "metadata": {
    "pycharm": {
     "name": "#%%\n"
    }
   },
   "outputs": [],
   "source": [
    "# Setting detailed view and email lists\n",
    "detailed_ev = flow_steps[\"detailed_view\"]\n",
    "email = ids[\"email\"]"
   ]
  },
  {
   "cell_type": "code",
   "execution_count": 4,
   "id": "2fca0aed-0c59-41e6-a32c-fcc6e7992472",
   "metadata": {
    "pycharm": {
     "name": "#%%\n"
    }
   },
   "outputs": [],
   "source": [
    "# Matching event name to detailed event name and adding to sfh dataframe\n",
    "\n",
    "i = 0\n",
    "code_list = []\n",
    "while i < len(sfh):\n",
    "    #matching event name to numerical event code\n",
    "    event = sfh[\"event_name\"][i]\n",
    "    boolkey2 = event == flow_steps[\"event_name\"]\n",
    "    ev_key = [k for k, x in enumerate(boolkey2) if x]\n",
    "    if ev_key != []:\n",
    "        detailed = detailed_ev[ev_key[0]]\n",
    "        code_list.append(detailed)\n",
    "    else:\n",
    "        detailed = \"N/A\"\n",
    "        code_list.append(detailed)\n",
    "    i += 1\n",
    "    \n",
    "sfh[\"detailed_view\"] = code_list"
   ]
  },
  {
   "cell_type": "code",
   "execution_count": 5,
   "id": "1582c130-ae6d-490f-8e8d-8920d6473e3b",
   "metadata": {
    "pycharm": {
     "name": "#%%\n"
    }
   },
   "outputs": [],
   "source": [
    "# Determining email mask\n",
    "email_list = [\" \", \" \"]\n",
    "ct = 0\n",
    "i=0\n",
    "while i < len(ids):\n",
    "    if ids[\"email\"][i] != []:\n",
    "        ct = ct + 1\n",
    "        email = \"Email\"+str(ct)\n",
    "    else:\n",
    "        email = \"N/A\"\n",
    "    \n",
    "    email_list.append(email)\n",
    "    i += 1"
   ]
  },
  {
   "cell_type": "code",
   "execution_count": 6,
   "id": "8fb0dbdf-a3d5-4778-aca1-64c42580c2d4",
   "metadata": {
    "pycharm": {
     "name": "#%%\n"
    }
   },
   "outputs": [],
   "source": [
    "# Determining Subject ID list\n",
    "subject_ids = [\" \", \" \"]\n",
    "i=0\n",
    "while i < len(ids):\n",
    "    if ids[\"subject_id\"][i] != []:\n",
    "        s_id = ids[\"subject_id\"][i]\n",
    "    else:\n",
    "        s_id = \"N/A\"\n",
    "    \n",
    "    subject_ids.append(s_id)\n",
    "    i += 1"
   ]
  },
  {
   "cell_type": "code",
   "execution_count": 7,
   "id": "01b82627-afd3-430f-812a-0ab3b677c2b2",
   "metadata": {
    "pycharm": {
     "name": "#%%\n"
    }
   },
   "outputs": [],
   "source": [
    "# Determining current/last subject status\n",
    "anon_id = ids[\"anonymous_id\"]\n",
    "status_int_list = []\n",
    "for a_id in anon_id:\n",
    "    boolkey = a_id == anonymous[\"anonymous_id\"]\n",
    "    id_key = [j for j, x in enumerate(boolkey) if x]\n",
    "    if id_key != []:\n",
    "        status_int = anonymous[\"current_subject_flow_step_id\"][id_key[0]]\n",
    "        status_int_list.append(status_int)\n",
    "    else:\n",
    "        status_int = \"N/A\"\n",
    "        status_int_list.append(status_int)\n",
    "        \n",
    "status_list = [\" \", \" \"]\n",
    "s_textlist = [\" \", \" \"]\n",
    "for stat_int in status_int_list:\n",
    "    boolkey = stat_int == flow_steps[\"id\"]\n",
    "    id_key = [j for j, x in enumerate(boolkey) if x]\n",
    "    if id_key != []:\n",
    "        status_code = flow_steps[\"code\"][id_key[0]]\n",
    "        status_list.append(status_code)\n",
    "        status_text = flow_steps[\"detailed_view\"][id_key[0]]\n",
    "        s_textlist.append(status_text)\n",
    "    else:\n",
    "        status_code = \"N/A\"\n",
    "        status_list.append(status_code)\n",
    "        status_text = \"N/A\"\n",
    "        s_textlist.append(status_text)"
   ]
  },
  {
   "cell_type": "code",
   "execution_count": 8,
   "id": "7357e6dc-66bf-450c-9cd5-d57f82aeb3e9",
   "metadata": {
    "pycharm": {
     "name": "#%%\n"
    }
   },
   "outputs": [],
   "source": [
    "#Ordering flow_steps table by chronological study step\n",
    "fs_sorted = flow_steps.sort_values(\"id\")\n",
    "sorted_series = fs_sorted[\"detailed_view\"][1:-3]\n",
    "sorted_list = sorted_series.tolist()"
   ]
  },
  {
   "cell_type": "code",
   "execution_count": 9,
   "id": "ff3d2502-ea2e-4572-9b28-2e8cfc39dc16",
   "metadata": {
    "pycharm": {
     "name": "#%%\n"
    }
   },
   "outputs": [],
   "source": [
    "#Creating anonymous id list\n",
    "series_a = ids[\"anonymous_id\"][:]\n",
    "list_a = series_a.tolist()\n",
    "anon = [\" \", \" \"]+list_a"
   ]
  },
  {
   "cell_type": "code",
   "execution_count": 10,
   "id": "47b10d4c-8d29-4ac8-a347-c31062a84948",
   "metadata": {
    "pycharm": {
     "name": "#%%\n"
    }
   },
   "outputs": [],
   "source": [
    "#Setting up User Interest - Objective Table\n",
    "columns = [\"First ts\", \"Anonymous ID\", \"Email\", \"Subject ID\", \"Current/Final Subject Status Code\", \"Current/Final Subject Status Text\"]\n",
    "\n",
    "columns = columns + sorted_list\n",
    "\n",
    "user_int = pd.DataFrame(columns = columns)\n",
    "\n",
    "user_int[\"Anonymous ID\"] = anon\n",
    "user_int[\"Email\"] = email_list\n",
    "user_int[\"Subject ID\"] = subject_ids\n",
    "user_int[\"Current/Final Subject Status Code\"] = status_list\n",
    "user_int[\"Current/Final Subject Status Text\"] = s_textlist\n"
   ]
  },
  {
   "cell_type": "code",
   "execution_count": 11,
   "id": "af9d4857-9e20-48e6-aa25-ea4d2665a599",
   "metadata": {
    "pycharm": {
     "name": "#%%\n"
    }
   },
   "outputs": [],
   "source": [
    "#Setting up User Interest - Objective Table pt 2\n",
    "\n",
    "sorted_codes = fs_sorted[\"code\"][1:-3]\n",
    "s_codes_list = sorted_codes.tolist()\n",
    "summ = fs_sorted[\"simple_view\"][1:-3]\n",
    "summ_list = summ.tolist()\n",
    "\n",
    "i=0\n",
    "for col in sorted_list:\n",
    "    user_int.loc[0,col] = s_codes_list[i]\n",
    "    user_int.loc[1,col] = summ_list[i]\n",
    "    i+=1\n",
    "    "
   ]
  },
  {
   "cell_type": "code",
   "execution_count": 12,
   "id": "c76a6dac-f201-4194-ab59-de29939a33f3",
   "metadata": {
    "pycharm": {
     "name": "#%%\n"
    }
   },
   "outputs": [],
   "source": [
    "#Filling User Interest - Objective Table\n",
    "i=1\n",
    "for anon_id in anon:\n",
    "    if anon_id != \" \":\n",
    "        i+=1\n",
    "        bkey = anon_id == sfh[\"anonymous_id\"]\n",
    "        id_keys = [j for j, x in enumerate(bkey) if x]\n",
    "        if id_keys != []:\n",
    "            for id_key in id_keys:\n",
    "                d_event = sfh[\"detailed_view\"][id_key]\n",
    "                if d_event in user_int:\n",
    "                    user_int.loc[i,d_event] = sfh[\"timestamp\"][id_key]\n"
   ]
  },
  {
   "cell_type": "code",
   "execution_count": 13,
   "id": "3e0c5194-3a1a-493d-8def-5014c35fad9c",
   "metadata": {
    "pycharm": {
     "name": "#%%\n"
    }
   },
   "outputs": [],
   "source": [
    "user_int.to_csv(\"5UserInterestObjective.csv\")"
   ]
  }
 ],
 "metadata": {
  "kernelspec": {
   "display_name": "Python 3 (ipykernel)",
   "language": "python",
   "name": "python3"
  },
  "language_info": {
   "codemirror_mode": {
    "name": "ipython",
    "version": 3
   },
   "file_extension": ".py",
   "mimetype": "text/x-python",
   "name": "python",
   "nbconvert_exporter": "python",
   "pygments_lexer": "ipython3",
   "version": "3.7.10"
  }
 },
 "nbformat": 4,
 "nbformat_minor": 5
}